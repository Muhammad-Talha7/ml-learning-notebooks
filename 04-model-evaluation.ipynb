{
 "cells": [
  {
   "cell_type": "markdown",
   "id": "f85625f3",
   "metadata": {},
   "source": [
    "# Model Evaluation"
   ]
  },
  {
   "cell_type": "markdown",
   "id": "880bab15",
   "metadata": {},
   "source": [
    "### Why a simple train/test split isn’t always enough.\n",
    "\n",
    "A simple train/test split is often insufficient for robust model evaluation because it can lead to unreliable performance estimates and miss important data characteristics."
   ]
  },
  {
   "cell_type": "markdown",
   "id": "a8f0bef3",
   "metadata": {},
   "source": [
    "### Cross Validation"
   ]
  },
  {
   "cell_type": "markdown",
   "id": "1c51a42e",
   "metadata": {},
   "source": [
    "Cross-validation is a statistical technique used to evaluate machine learning models and estimate how well they will generalize to an independent, unseen dataset by dividing the dataset in k parts."
   ]
  },
  {
   "cell_type": "markdown",
   "id": "5496039e",
   "metadata": {},
   "source": [
    "**Bais**\n",
    "\n",
    "The model is too simple to capture the underlying patterns in the data. It consistently makes the same type of error because of a fundamental, mistaken assumption about the data's structure.\n",
    "\n",
    "**Variance**\n",
    "\n",
    "The model is too complex and learns the noise and random fluctuations in the training data rather than the intended pattern. It is overly sensitive to the specifics of the training set.\n",
    "\n",
    "**Bais Variance trade-off**\n",
    "\n",
    "In machine learning, bias is the error from overly simplistic assumptions in the learning algorithm, while variance is the error from the model being too sensitive to the training data. This relationship, known as the bias-variance tradeoff, directly explains the fundamental problems of underfitting (high bias, low variance) and overfitting (low bias, high variance)."
   ]
  },
  {
   "cell_type": "markdown",
   "id": "54144244",
   "metadata": {},
   "source": [
    "## Practical"
   ]
  },
  {
   "cell_type": "markdown",
   "id": "2967dc97",
   "metadata": {},
   "source": [
    "#### Loading iris"
   ]
  },
  {
   "cell_type": "code",
   "execution_count": 1,
   "id": "11263e12",
   "metadata": {},
   "outputs": [],
   "source": [
    "from sklearn.datasets import load_iris\n",
    "iris = load_iris()\n",
    "X = iris.data\n",
    "y = iris.target"
   ]
  },
  {
   "cell_type": "markdown",
   "id": "05c462ca",
   "metadata": {},
   "source": [
    "#### Train Test Split"
   ]
  },
  {
   "cell_type": "code",
   "execution_count": 2,
   "id": "4d42c712",
   "metadata": {},
   "outputs": [],
   "source": [
    "from sklearn.model_selection import train_test_split\n",
    "X_train, X_test , y_train, y_test = train_test_split(X, y, test_size=0.2, random_state=42)"
   ]
  },
  {
   "cell_type": "markdown",
   "id": "016692ee",
   "metadata": {},
   "source": [
    "#### Training the model and predictions"
   ]
  },
  {
   "cell_type": "code",
   "execution_count": 12,
   "id": "1a5a005a",
   "metadata": {},
   "outputs": [],
   "source": [
    "from sklearn.linear_model import LogisticRegression\n",
    "model = LogisticRegression(max_iter=200)\n",
    "model.fit(X_train,y_train)\n",
    "y_pred= model.predict(X_test)"
   ]
  },
  {
   "cell_type": "markdown",
   "id": "d5e121af",
   "metadata": {},
   "source": [
    "## Evaluation"
   ]
  },
  {
   "cell_type": "markdown",
   "id": "e8f9f1da",
   "metadata": {},
   "source": [
    "#### Evaluate Logistic Regression with accuracy, confusion matrix and classification report"
   ]
  },
  {
   "cell_type": "code",
   "execution_count": 6,
   "id": "b97d107e",
   "metadata": {},
   "outputs": [
    {
     "name": "stdout",
     "output_type": "stream",
     "text": [
      "\n",
      "Accuracy:  1.0\n",
      "\n",
      "Confusion matrix: \n",
      " [[10  0  0]\n",
      " [ 0  9  0]\n",
      " [ 0  0 11]]\n",
      "\n",
      "Classification report: \n",
      "               precision    recall  f1-score   support\n",
      "\n",
      "           0       1.00      1.00      1.00        10\n",
      "           1       1.00      1.00      1.00         9\n",
      "           2       1.00      1.00      1.00        11\n",
      "\n",
      "    accuracy                           1.00        30\n",
      "   macro avg       1.00      1.00      1.00        30\n",
      "weighted avg       1.00      1.00      1.00        30\n",
      "\n"
     ]
    }
   ],
   "source": [
    "from sklearn.metrics import accuracy_score, confusion_matrix, classification_report\n",
    "print(\"\\nAccuracy: \",accuracy_score(y_test, y_pred))                            \n",
    "print(\"\\nConfusion matrix: \\n\",confusion_matrix(y_test, y_pred))                \n",
    "print(\"\\nClassification report: \\n\", classification_report(y_test, y_pred)) "
   ]
  },
  {
   "cell_type": "markdown",
   "id": "f07dc91c",
   "metadata": {},
   "source": [
    "#### Cross validation"
   ]
  },
  {
   "cell_type": "code",
   "execution_count": 18,
   "id": "3476b52c",
   "metadata": {},
   "outputs": [
    {
     "name": "stdout",
     "output_type": "stream",
     "text": [
      "\n",
      "Cross Validation scores:  [0.96666667 1.         0.93333333 0.96666667 1.        ]\n",
      "\n",
      "Mean of Cv scores:  0.9733333333333334\n"
     ]
    }
   ],
   "source": [
    "from sklearn.model_selection import cross_val_score\n",
    "import numpy as np\n",
    "\n",
    "cv_scores= cross_val_score(model, X, y, cv=5)\n",
    "print(\"\\nCross Validation scores: \", cv_scores)\n",
    "print(\"\\nMean of Cv scores: \", np.mean(cv_scores))"
   ]
  },
  {
   "cell_type": "markdown",
   "id": "8cd11ea6",
   "metadata": {},
   "source": [
    "Mean CV accuracy = 0.973 → much more realistic estimate of model performance."
   ]
  },
  {
   "cell_type": "markdown",
   "id": "f8c6040e",
   "metadata": {},
   "source": [
    "## K-Nearest Neighbours (KNN)"
   ]
  },
  {
   "cell_type": "code",
   "execution_count": 19,
   "id": "6613a076",
   "metadata": {},
   "outputs": [],
   "source": [
    "from sklearn.neighbors import KNeighborsClassifier\n",
    "model = KNeighborsClassifier(n_neighbors=5)\n",
    "model.fit(X_train, y_train)\n",
    "y_pred = model.predict(X_test)"
   ]
  },
  {
   "cell_type": "markdown",
   "id": "1b095baf",
   "metadata": {},
   "source": [
    "## Evaluation\n",
    "\n",
    "#### Evaluate KNN with accuracy, confusion matrix and classification report"
   ]
  },
  {
   "cell_type": "code",
   "execution_count": 20,
   "id": "508fd784",
   "metadata": {},
   "outputs": [
    {
     "name": "stdout",
     "output_type": "stream",
     "text": [
      "\n",
      "Accuracy:  1.0\n",
      "\n",
      "Confusion matrix: \n",
      " [[10  0  0]\n",
      " [ 0  9  0]\n",
      " [ 0  0 11]]\n",
      "\n",
      "Classification report: \n",
      "               precision    recall  f1-score   support\n",
      "\n",
      "           0       1.00      1.00      1.00        10\n",
      "           1       1.00      1.00      1.00         9\n",
      "           2       1.00      1.00      1.00        11\n",
      "\n",
      "    accuracy                           1.00        30\n",
      "   macro avg       1.00      1.00      1.00        30\n",
      "weighted avg       1.00      1.00      1.00        30\n",
      "\n"
     ]
    }
   ],
   "source": [
    "print(\"\\nAccuracy: \",accuracy_score(y_test, y_pred))                            \n",
    "print(\"\\nConfusion matrix: \\n\",confusion_matrix(y_test, y_pred))                \n",
    "print(\"\\nClassification report: \\n\", classification_report(y_test, y_pred)) "
   ]
  },
  {
   "cell_type": "markdown",
   "id": "5106e42a",
   "metadata": {},
   "source": [
    "#### Cross Validation of KNN"
   ]
  },
  {
   "cell_type": "code",
   "execution_count": 22,
   "id": "ce8b8081",
   "metadata": {},
   "outputs": [
    {
     "name": "stdout",
     "output_type": "stream",
     "text": [
      "\n",
      "Cross Validation scores:  [0.96666667 1.         0.93333333 0.96666667 1.        ]\n",
      "\n",
      "Mean of Knn scores:  0.9733333333333334\n"
     ]
    }
   ],
   "source": [
    "knn_scores = cross_val_score(model, X, y, cv=5)\n",
    "print(\"\\nCross Validation scores: \", knn_scores)\n",
    "print(\"\\nMean of Knn scores: \", np.mean(knn_scores))"
   ]
  }
 ],
 "metadata": {
  "kernelspec": {
   "display_name": "Python 3",
   "language": "python",
   "name": "python3"
  },
  "language_info": {
   "codemirror_mode": {
    "name": "ipython",
    "version": 3
   },
   "file_extension": ".py",
   "mimetype": "text/x-python",
   "name": "python",
   "nbconvert_exporter": "python",
   "pygments_lexer": "ipython3",
   "version": "3.11.0"
  }
 },
 "nbformat": 4,
 "nbformat_minor": 5
}
