{
 "cells": [
  {
   "cell_type": "markdown",
   "id": "3fc4d9ac",
   "metadata": {},
   "source": [
    "# Random Forest\n",
    "\n",
    "Random Forests consistently work better than single decision trees because they overcome the major weakness of individual trees: overfitting. A single, complex decision tree can memorize the noise and outliers in the training data, resulting in a model that is brittle and performs poorly on new, unseen data."
   ]
  },
  {
   "cell_type": "markdown",
   "id": "a5a5d5af",
   "metadata": {},
   "source": [
    "### Ensemble\n",
    "\n",
    "An \"ensemble\" is a combination of many individual models (the \"base learners\") whose predictions are averaged or voted on to produce a more accurate, stable, and robust final prediction.\n",
    "\n",
    "**n_estimators**\n",
    "\n",
    "n_estimators controls the number of trees in the forest. More trees generally increase accuracy by reducing variance, but also increase training time.\n",
    "\n",
    "**max_depth**\n",
    "\n",
    "max_depth limits the maximum number of splits each individual tree can make. This prevents any single tree from becoming too complex and overfitting the training data, while the ensemble still captures complex patterns."
   ]
  },
  {
   "cell_type": "markdown",
   "id": "714c68d6",
   "metadata": {},
   "source": [
    "## Practical\n",
    "\n",
    "### Loading dataset"
   ]
  },
  {
   "cell_type": "code",
   "execution_count": 1,
   "id": "ffe5a2ed",
   "metadata": {},
   "outputs": [],
   "source": [
    "from sklearn.datasets import load_iris\n",
    "iris = load_iris()\n",
    "X = iris.data\n",
    "y = iris.target"
   ]
  },
  {
   "cell_type": "markdown",
   "id": "9868fc53",
   "metadata": {},
   "source": [
    "### Train Test Split"
   ]
  },
  {
   "cell_type": "code",
   "execution_count": 2,
   "id": "e6a2ac06",
   "metadata": {},
   "outputs": [],
   "source": [
    "from sklearn.model_selection import train_test_split\n",
    "X_train, X_test, y_train, y_test = train_test_split(X, y, test_size=0.2, random_state=42)"
   ]
  },
  {
   "cell_type": "markdown",
   "id": "ed6989a4",
   "metadata": {},
   "source": [
    "### Models Selection"
   ]
  },
  {
   "cell_type": "code",
   "execution_count": 5,
   "id": "dc4eef60",
   "metadata": {},
   "outputs": [],
   "source": [
    "from sklearn.linear_model import LogisticRegression\n",
    "from sklearn.neighbors import KNeighborsClassifier\n",
    "from sklearn.tree import DecisionTreeClassifier\n",
    "from sklearn.ensemble import RandomForestClassifier\n",
    "\n",
    "models ={\n",
    "    \"LogisticRegression\" : LogisticRegression(max_iter=200),\n",
    "    \"KNN\" : KNeighborsClassifier(n_neighbors=5),\n",
    "    \"Decision Tree\" : DecisionTreeClassifier(random_state=42),\n",
    "    \"Random Forest\" : RandomForestClassifier(n_estimators=100, random_state=42)\n",
    "}\n",
    "\n",
    "results = []"
   ]
  },
  {
   "cell_type": "markdown",
   "id": "f0727989",
   "metadata": {},
   "source": [
    "### Model Training and Prediction"
   ]
  },
  {
   "cell_type": "code",
   "execution_count": 6,
   "id": "516433d5",
   "metadata": {},
   "outputs": [
    {
     "name": "stdout",
     "output_type": "stream",
     "text": [
      "\n",
      "Accuracy:  1.0\n",
      "\n",
      "Confusion matrix:\n",
      " [[10  0  0]\n",
      " [ 0  9  0]\n",
      " [ 0  0 11]]\n",
      "\n",
      "Classification Report:\n",
      "               precision    recall  f1-score   support\n",
      "\n",
      "           0       1.00      1.00      1.00        10\n",
      "           1       1.00      1.00      1.00         9\n",
      "           2       1.00      1.00      1.00        11\n",
      "\n",
      "    accuracy                           1.00        30\n",
      "   macro avg       1.00      1.00      1.00        30\n",
      "weighted avg       1.00      1.00      1.00        30\n",
      "\n",
      "\n",
      "Accuracy:  1.0\n",
      "\n",
      "Confusion matrix:\n",
      " [[10  0  0]\n",
      " [ 0  9  0]\n",
      " [ 0  0 11]]\n",
      "\n",
      "Classification Report:\n",
      "               precision    recall  f1-score   support\n",
      "\n",
      "           0       1.00      1.00      1.00        10\n",
      "           1       1.00      1.00      1.00         9\n",
      "           2       1.00      1.00      1.00        11\n",
      "\n",
      "    accuracy                           1.00        30\n",
      "   macro avg       1.00      1.00      1.00        30\n",
      "weighted avg       1.00      1.00      1.00        30\n",
      "\n",
      "\n",
      "Accuracy:  1.0\n",
      "\n",
      "Confusion matrix:\n",
      " [[10  0  0]\n",
      " [ 0  9  0]\n",
      " [ 0  0 11]]\n",
      "\n",
      "Classification Report:\n",
      "               precision    recall  f1-score   support\n",
      "\n",
      "           0       1.00      1.00      1.00        10\n",
      "           1       1.00      1.00      1.00         9\n",
      "           2       1.00      1.00      1.00        11\n",
      "\n",
      "    accuracy                           1.00        30\n",
      "   macro avg       1.00      1.00      1.00        30\n",
      "weighted avg       1.00      1.00      1.00        30\n",
      "\n",
      "\n",
      "Accuracy:  1.0\n",
      "\n",
      "Confusion matrix:\n",
      " [[10  0  0]\n",
      " [ 0  9  0]\n",
      " [ 0  0 11]]\n",
      "\n",
      "Classification Report:\n",
      "               precision    recall  f1-score   support\n",
      "\n",
      "           0       1.00      1.00      1.00        10\n",
      "           1       1.00      1.00      1.00         9\n",
      "           2       1.00      1.00      1.00        11\n",
      "\n",
      "    accuracy                           1.00        30\n",
      "   macro avg       1.00      1.00      1.00        30\n",
      "weighted avg       1.00      1.00      1.00        30\n",
      "\n"
     ]
    }
   ],
   "source": [
    "from sklearn.model_selection import cross_val_predict\n",
    "from sklearn.metrics import accuracy_score, confusion_matrix, classification_report\n",
    "import numpy as np\n",
    "\n",
    "for name, model in models.items():\n",
    "    model.fit(X_train,y_train)\n",
    "    y_pred = model.predict(X_test)\n",
    "    acc = accuracy_score(y_test, y_pred)\n",
    "    cv_scores = cross_val_predict(model, X, y, cv=5)\n",
    "    results.append({\n",
    "        \"Model\" : name,\n",
    "        \"Accuracy\" : acc,\n",
    "        \"CV_mean\" : np.mean(cv_scores)\n",
    "    })\n",
    "    print(\"\\nAccuracy: \",acc)\n",
    "    print(\"\\nConfusion matrix:\\n\",confusion_matrix(y_test, y_pred))\n",
    "    print(\"\\nClassification Report:\\n\",classification_report(y_test, y_pred))"
   ]
  },
  {
   "cell_type": "markdown",
   "id": "1cf76404",
   "metadata": {},
   "source": [
    "### Results Table"
   ]
  },
  {
   "cell_type": "code",
   "execution_count": 11,
   "id": "da7e2497",
   "metadata": {},
   "outputs": [
    {
     "name": "stdout",
     "output_type": "stream",
     "text": [
      "Moodel Comparison\n",
      "                 Model  Accuracy   CV_mean\n",
      "0  LogisticRegression       1.0  1.013333\n",
      "1                 KNN       1.0  1.013333\n",
      "2       Decision Tree       1.0  0.993333\n",
      "3       Random Forest       1.0  1.006667\n"
     ]
    }
   ],
   "source": [
    "import pandas as pd\n",
    "df_results = pd.DataFrame(results)\n",
    "print(\"Moodel Comparison\\n\", df_results)"
   ]
  },
  {
   "cell_type": "markdown",
   "id": "7f77d33e",
   "metadata": {},
   "source": [
    "### Random Forest Feature Importance"
   ]
  },
  {
   "cell_type": "code",
   "execution_count": 15,
   "id": "0d3d8f95",
   "metadata": {},
   "outputs": [],
   "source": [
    "rf = models[\"Random Forest\"]\n",
    "importances = rf.feature_importances_\n",
    "features= iris.feature_names"
   ]
  },
  {
   "cell_type": "markdown",
   "id": "22dea220",
   "metadata": {},
   "source": [
    "### Plotting"
   ]
  },
  {
   "cell_type": "code",
   "execution_count": 18,
   "id": "83f14821",
   "metadata": {},
   "outputs": [
    {
     "data": {
      "image/png": "[encoded data removed]",
      "text/plain": [
       "<Figure size 600x400 with 1 Axes>"
      ]
     },
     "metadata": {},
     "output_type": "display_data"
    }
   ],
   "source": [
    "import matplotlib.pyplot as plt\n",
    "plt.figure(figsize=(6,4))\n",
    "plt.bar(features, importances)\n",
    "plt.title(\"Random Forest Feature Importance\")\n",
    "plt.ylabel(\"Importance score\")\n",
    "plt.xticks(rotation=45)\n",
    "plt.show()\n"
   ]
  }
 ],
 "metadata": {
  "kernelspec": {
   "display_name": "Python 3",
   "language": "python",
   "name": "python3"
  },
  "language_info": {
   "codemirror_mode": {
    "name": "ipython",
    "version": 3
   },
   "file_extension": ".py",
   "mimetype": "text/x-python",
   "name": "python",
   "nbconvert_exporter": "python",
   "pygments_lexer": "ipython3",
   "version": "3.11.0"
  }
 },
 "nbformat": 4,
 "nbformat_minor": 5
}
